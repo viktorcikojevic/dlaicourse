{
  "cells": [
    {
      "cell_type": "code",
      "execution_count": 1,
      "metadata": {
        "colab": {},
        "colab_type": "code",
        "id": "zX4Kg8DUTKWO"
      },
      "outputs": [],
      "source": [
        "#@title Licensed under the Apache License, Version 2.0 (the \"License\");\n",
        "# you may not use this file except in compliance with the License.\n",
        "# You may obtain a copy of the License at\n",
        "#\n",
        "# https://www.apache.org/licenses/LICENSE-2.0\n",
        "#\n",
        "# Unless required by applicable law or agreed to in writing, software\n",
        "# distributed under the License is distributed on an \"AS IS\" BASIS,\n",
        "# WITHOUT WARRANTIES OR CONDITIONS OF ANY KIND, either express or implied.\n",
        "# See the License for the specific language governing permissions and\n",
        "# limitations under the License."
      ]
    },
    {
      "cell_type": "code",
      "execution_count": 3,
      "metadata": {
        "colab": {},
        "colab_type": "code",
        "id": "D1J15Vh_1Jih"
      },
      "outputs": [
        {
          "name": "stdout",
          "output_type": "stream",
          "text": [
            "\u001b[31mERROR: Could not find a version that satisfies the requirement tf-nightly-2.0-preview (from versions: none)\u001b[0m\u001b[31m\n",
            "\u001b[0m\u001b[31mERROR: No matching distribution found for tf-nightly-2.0-preview\u001b[0m\u001b[31m\n",
            "\u001b[0mNote: you may need to restart the kernel to use updated packages.\n"
          ]
        }
      ],
      "source": [
        "%pip install tf-nightly-2.0-preview\n"
      ]
    },
    {
      "cell_type": "code",
      "execution_count": 4,
      "metadata": {
        "colab": {
          "base_uri": "https://localhost:8080/",
          "height": 35
        },
        "colab_type": "code",
        "id": "BOjujz601HcS",
        "outputId": "aa0651c4-b24e-4e1e-936c-e31004fa751b"
      },
      "outputs": [
        {
          "name": "stdout",
          "output_type": "stream",
          "text": [
            "2.8.0\n"
          ]
        }
      ],
      "source": [
        "import tensorflow as tf\n",
        "import numpy as np\n",
        "import matplotlib.pyplot as plt\n",
        "print(tf.__version__)"
      ]
    },
    {
      "cell_type": "code",
      "execution_count": 5,
      "metadata": {
        "colab": {},
        "colab_type": "code",
        "id": "Zswl7jRtGzkk"
      },
      "outputs": [],
      "source": [
        "def plot_series(time, series, format=\"-\", start=0, end=None):\n",
        "    plt.plot(time[start:end], series[start:end], format)\n",
        "    plt.xlabel(\"Time\")\n",
        "    plt.ylabel(\"Value\")\n",
        "    plt.grid(True)\n",
        "\n",
        "def trend(time, slope=0):\n",
        "    return slope * time\n",
        "\n",
        "def seasonal_pattern(season_time):\n",
        "    \"\"\"Just an arbitrary pattern, you can change it if you wish\"\"\"\n",
        "    return np.where(season_time < 0.4,\n",
        "                    np.cos(season_time * 2 * np.pi),\n",
        "                    1 / np.exp(3 * season_time))\n",
        "\n",
        "def seasonality(time, period, amplitude=1, phase=0):\n",
        "    \"\"\"Repeats the same pattern at each period\"\"\"\n",
        "    season_time = ((time + phase) % period) / period\n",
        "    return amplitude * seasonal_pattern(season_time)\n",
        "\n",
        "def noise(time, noise_level=1, seed=None):\n",
        "    rnd = np.random.RandomState(seed)\n",
        "    return rnd.randn(len(time)) * noise_level\n",
        "\n",
        "time = np.arange(4 * 365 + 1, dtype=\"float32\")\n",
        "baseline = 10\n",
        "series = trend(time, 0.1)  \n",
        "baseline = 10\n",
        "amplitude = 40\n",
        "slope = 0.05\n",
        "noise_level = 5\n",
        "\n",
        "# Create the series\n",
        "series = baseline + trend(time, slope) + seasonality(time, period=365, amplitude=amplitude)\n",
        "# Update with noise\n",
        "series += noise(time, noise_level, seed=42)\n",
        "\n",
        "split_time = 1000\n",
        "time_train = time[:split_time]\n",
        "x_train = series[:split_time]\n",
        "time_valid = time[split_time:]\n",
        "x_valid = series[split_time:]\n",
        "\n",
        "window_size = 20\n",
        "batch_size = 32\n",
        "shuffle_buffer_size = 1000"
      ]
    },
    {
      "cell_type": "code",
      "execution_count": 6,
      "metadata": {
        "colab": {},
        "colab_type": "code",
        "id": "4sTTIOCbyShY"
      },
      "outputs": [],
      "source": [
        "def windowed_dataset(series, window_size, batch_size, shuffle_buffer):\n",
        "  dataset = tf.data.Dataset.from_tensor_slices(series)\n",
        "  dataset = dataset.window(window_size + 1, shift=1, drop_remainder=True)\n",
        "  dataset = dataset.flat_map(lambda window: window.batch(window_size + 1))\n",
        "  dataset = dataset.shuffle(shuffle_buffer).map(lambda window: (window[:-1], window[-1]))\n",
        "  dataset = dataset.batch(batch_size).prefetch(1)\n",
        "  return dataset"
      ]
    },
    {
      "cell_type": "code",
      "execution_count": 7,
      "metadata": {
        "colab": {
          "base_uri": "https://localhost:8080/",
          "height": 1000
        },
        "colab_type": "code",
        "id": "A1Hl39rklkLm",
        "outputId": "75cbaf63-f635-4dd1-96fd-b4e1d6fd94bb"
      },
      "outputs": [
        {
          "name": "stdout",
          "output_type": "stream",
          "text": [
            "Metal device set to: Apple M1 Pro\n",
            "\n",
            "systemMemory: 16.00 GB\n",
            "maxCacheSize: 5.33 GB\n",
            "\n"
          ]
        },
        {
          "name": "stderr",
          "output_type": "stream",
          "text": [
            "2022-04-20 18:27:14.483490: I tensorflow/core/common_runtime/pluggable_device/pluggable_device_factory.cc:305] Could not identify NUMA node of platform GPU ID 0, defaulting to 0. Your kernel may not have been built with NUMA support.\n",
            "2022-04-20 18:27:14.483849: I tensorflow/core/common_runtime/pluggable_device/pluggable_device_factory.cc:271] Created TensorFlow device (/job:localhost/replica:0/task:0/device:GPU:0 with 0 MB memory) -> physical PluggableDevice (device: 0, name: METAL, pci bus id: <undefined>)\n"
          ]
        }
      ],
      "source": [
        "tf.keras.backend.clear_session()\n",
        "tf.random.set_seed(51)\n",
        "np.random.seed(51)\n",
        "\n",
        "tf.keras.backend.clear_session()\n",
        "dataset = windowed_dataset(x_train, window_size, batch_size, shuffle_buffer_size)\n",
        "\n",
        "model = tf.keras.models.Sequential([\n",
        "  tf.keras.layers.Lambda(lambda x: tf.expand_dims(x, axis=-1),\n",
        "                      input_shape=[None]),\n",
        "  tf.keras.layers.Bidirectional(tf.keras.layers.LSTM(32, return_sequences=True)),\n",
        "  tf.keras.layers.Bidirectional(tf.keras.layers.LSTM(32)),\n",
        "  tf.keras.layers.Dense(1),\n",
        "  tf.keras.layers.Lambda(lambda x: x * 100.0)\n",
        "])"
      ]
    },
    {
      "cell_type": "code",
      "execution_count": 8,
      "metadata": {},
      "outputs": [
        {
          "name": "stdout",
          "output_type": "stream",
          "text": [
            "Model: \"sequential\"\n",
            "_________________________________________________________________\n",
            " Layer (type)                Output Shape              Param #   \n",
            "=================================================================\n",
            " lambda (Lambda)             (None, None, 1)           0         \n",
            "                                                                 \n",
            " bidirectional (Bidirectiona  (None, None, 64)         8704      \n",
            " l)                                                              \n",
            "                                                                 \n",
            " bidirectional_1 (Bidirectio  (None, 64)               24832     \n",
            " nal)                                                            \n",
            "                                                                 \n",
            " dense (Dense)               (None, 1)                 65        \n",
            "                                                                 \n",
            " lambda_1 (Lambda)           (None, 1)                 0         \n",
            "                                                                 \n",
            "=================================================================\n",
            "Total params: 33,601\n",
            "Trainable params: 33,601\n",
            "Non-trainable params: 0\n",
            "_________________________________________________________________\n"
          ]
        }
      ],
      "source": [
        "model.summary()"
      ]
    },
    {
      "cell_type": "code",
      "execution_count": 12,
      "metadata": {},
      "outputs": [
        {
          "name": "stdout",
          "output_type": "stream",
          "text": [
            "Epoch 1/20\n"
          ]
        },
        {
          "name": "stderr",
          "output_type": "stream",
          "text": [
            "2022-04-20 18:28:52.434235: I tensorflow/core/grappler/optimizers/custom_graph_optimizer_registry.cc:113] Plugin optimizer for device_type GPU is enabled.\n",
            "2022-04-20 18:28:52.827451: I tensorflow/core/grappler/optimizers/custom_graph_optimizer_registry.cc:113] Plugin optimizer for device_type GPU is enabled.\n",
            "2022-04-20 18:28:52.838152: I tensorflow/core/grappler/optimizers/custom_graph_optimizer_registry.cc:113] Plugin optimizer for device_type GPU is enabled.\n",
            "2022-04-20 18:28:52.900563: I tensorflow/core/grappler/optimizers/custom_graph_optimizer_registry.cc:113] Plugin optimizer for device_type GPU is enabled.\n",
            "2022-04-20 18:28:52.911946: I tensorflow/core/grappler/optimizers/custom_graph_optimizer_registry.cc:113] Plugin optimizer for device_type GPU is enabled.\n",
            "2022-04-20 18:28:53.010268: I tensorflow/core/grappler/optimizers/custom_graph_optimizer_registry.cc:113] Plugin optimizer for device_type GPU is enabled.\n",
            "2022-04-20 18:28:53.026563: I tensorflow/core/grappler/optimizers/custom_graph_optimizer_registry.cc:113] Plugin optimizer for device_type GPU is enabled.\n"
          ]
        },
        {
          "name": "stdout",
          "output_type": "stream",
          "text": [
            "      2/Unknown - 3s 66ms/step - loss: 6.6580 - mae: 7.1303"
          ]
        },
        {
          "name": "stderr",
          "output_type": "stream",
          "text": [
            "2022-04-20 18:28:53.129833: I tensorflow/core/grappler/optimizers/custom_graph_optimizer_registry.cc:113] Plugin optimizer for device_type GPU is enabled.\n",
            "2022-04-20 18:28:53.146220: I tensorflow/core/grappler/optimizers/custom_graph_optimizer_registry.cc:113] Plugin optimizer for device_type GPU is enabled.\n"
          ]
        },
        {
          "name": "stdout",
          "output_type": "stream",
          "text": [
            "31/31 [==============================] - 4s 40ms/step - loss: 8.0853 - mae: 8.5692 - lr: 1.0000e-08\n",
            "Epoch 2/20\n",
            "31/31 [==============================] - 1s 32ms/step - loss: 8.0480 - mae: 8.5295 - lr: 2.1544e-08\n",
            "Epoch 3/20\n",
            "31/31 [==============================] - 1s 32ms/step - loss: 8.0120 - mae: 8.4921 - lr: 4.6416e-08\n",
            "Epoch 4/20\n",
            "31/31 [==============================] - 1s 31ms/step - loss: 7.9730 - mae: 8.4551 - lr: 1.0000e-07\n",
            "Epoch 5/20\n",
            "31/31 [==============================] - 1s 32ms/step - loss: 7.8656 - mae: 8.3477 - lr: 2.1544e-07\n",
            "Epoch 6/20\n",
            "31/31 [==============================] - 1s 33ms/step - loss: 7.7685 - mae: 8.2474 - lr: 4.6416e-07\n",
            "Epoch 7/20\n",
            "31/31 [==============================] - 1s 33ms/step - loss: 7.7516 - mae: 8.2343 - lr: 1.0000e-06\n",
            "Epoch 8/20\n",
            "31/31 [==============================] - 1s 32ms/step - loss: 7.9595 - mae: 8.4423 - lr: 2.1544e-06\n",
            "Epoch 9/20\n",
            "31/31 [==============================] - 1s 34ms/step - loss: 7.5188 - mae: 8.0030 - lr: 4.6416e-06\n",
            "Epoch 10/20\n",
            "31/31 [==============================] - 1s 36ms/step - loss: 6.8871 - mae: 7.3672 - lr: 1.0000e-05\n",
            "Epoch 11/20\n",
            "31/31 [==============================] - 1s 34ms/step - loss: 6.8528 - mae: 7.3370 - lr: 2.1544e-05\n",
            "Epoch 12/20\n",
            "31/31 [==============================] - 1s 35ms/step - loss: 9.4395 - mae: 9.9301 - lr: 4.6416e-05\n",
            "Epoch 13/20\n",
            "31/31 [==============================] - 1s 32ms/step - loss: 9.4545 - mae: 9.9412 - lr: 1.0000e-04\n",
            "Epoch 14/20\n",
            "31/31 [==============================] - 1s 31ms/step - loss: 13.4451 - mae: 13.9374 - lr: 2.1544e-04\n",
            "Epoch 15/20\n",
            "31/31 [==============================] - 1s 34ms/step - loss: 12.7539 - mae: 13.2432 - lr: 4.6416e-04\n",
            "Epoch 16/20\n",
            "31/31 [==============================] - 1s 31ms/step - loss: 19.8451 - mae: 20.3404 - lr: 0.0010\n",
            "Epoch 17/20\n",
            "31/31 [==============================] - 1s 31ms/step - loss: 18.9810 - mae: 19.4757 - lr: 0.0022\n",
            "Epoch 18/20\n",
            "31/31 [==============================] - 1s 32ms/step - loss: 33.2656 - mae: 33.7620 - lr: 0.0046\n",
            "Epoch 19/20\n",
            "31/31 [==============================] - 1s 32ms/step - loss: 23.6238 - mae: 24.1185 - lr: 0.0100\n",
            "Epoch 20/20\n",
            "31/31 [==============================] - 1s 32ms/step - loss: 138.7881 - mae: 139.2879 - lr: 0.0215\n"
          ]
        }
      ],
      "source": [
        "lr_schedule = tf.keras.callbacks.LearningRateScheduler(lambda epoch: 1e-8 * 10**(epoch / 3))\n",
        "optimizer = tf.keras.optimizers.SGD(lr=1e-8, momentum=0.9)\n",
        "model.compile(loss=tf.keras.losses.Huber(),\n",
        "              optimizer=optimizer,\n",
        "              metrics=[\"mae\"])\n",
        "history = model.fit(dataset, epochs=20, callbacks=[lr_schedule])"
      ]
    },
    {
      "cell_type": "code",
      "execution_count": 13,
      "metadata": {
        "colab": {
          "base_uri": "https://localhost:8080/",
          "height": 291
        },
        "colab_type": "code",
        "id": "AkBsrsXMzoWR",
        "outputId": "99a3f57b-9145-4802-8256-401a54b238e7"
      },
      "outputs": [
        {
          "data": {
            "text/plain": [
              "(1e-08, 0.0001, 0.0, 30.0)"
            ]
          },
          "execution_count": 13,
          "metadata": {},
          "output_type": "execute_result"
        },
        {
          "data": {
            "image/png": "[encoded data removed]",
            "text/plain": [
              "<Figure size 432x288 with 1 Axes>"
            ]
          },
          "metadata": {
            "needs_background": "light"
          },
          "output_type": "display_data"
        }
      ],
      "source": [
        "plt.semilogx(history.history[\"lr\"], history.history[\"loss\"])\n",
        "plt.axis([1e-8, 1e-4, 0, 30])"
      ]
    },
    {
      "cell_type": "code",
      "execution_count": 15,
      "metadata": {
        "colab": {},
        "colab_type": "code",
        "id": "4uh-97bpLZCA"
      },
      "outputs": [
        {
          "name": "stdout",
          "output_type": "stream",
          "text": [
            "Epoch 1/20\n"
          ]
        },
        {
          "name": "stderr",
          "output_type": "stream",
          "text": [
            "2022-04-20 18:29:47.802468: I tensorflow/core/grappler/optimizers/custom_graph_optimizer_registry.cc:113] Plugin optimizer for device_type GPU is enabled.\n",
            "2022-04-20 18:29:48.189071: I tensorflow/core/grappler/optimizers/custom_graph_optimizer_registry.cc:113] Plugin optimizer for device_type GPU is enabled.\n",
            "2022-04-20 18:29:48.200709: I tensorflow/core/grappler/optimizers/custom_graph_optimizer_registry.cc:113] Plugin optimizer for device_type GPU is enabled.\n",
            "2022-04-20 18:29:48.263504: I tensorflow/core/grappler/optimizers/custom_graph_optimizer_registry.cc:113] Plugin optimizer for device_type GPU is enabled.\n",
            "2022-04-20 18:29:48.274816: I tensorflow/core/grappler/optimizers/custom_graph_optimizer_registry.cc:113] Plugin optimizer for device_type GPU is enabled.\n",
            "2022-04-20 18:29:48.372169: I tensorflow/core/grappler/optimizers/custom_graph_optimizer_registry.cc:113] Plugin optimizer for device_type GPU is enabled.\n",
            "2022-04-20 18:29:48.388392: I tensorflow/core/grappler/optimizers/custom_graph_optimizer_registry.cc:113] Plugin optimizer for device_type GPU is enabled.\n",
            "2022-04-20 18:29:48.493158: I tensorflow/core/grappler/optimizers/custom_graph_optimizer_registry.cc:113] Plugin optimizer for device_type GPU is enabled.\n",
            "2022-04-20 18:29:48.509819: I tensorflow/core/grappler/optimizers/custom_graph_optimizer_registry.cc:113] Plugin optimizer for device_type GPU is enabled.\n"
          ]
        },
        {
          "name": "stdout",
          "output_type": "stream",
          "text": [
            "31/31 - 4s - loss: 1921.3555 - mae: 30.2729 - 4s/epoch - 126ms/step\n",
            "Epoch 2/20\n",
            "31/31 - 1s - loss: 241.4383 - mae: 12.3939 - 1s/epoch - 33ms/step\n",
            "Epoch 3/20\n",
            "31/31 - 1s - loss: 129.7296 - mae: 8.6112 - 951ms/epoch - 31ms/step\n",
            "Epoch 4/20\n",
            "31/31 - 1s - loss: 107.9687 - mae: 7.9155 - 957ms/epoch - 31ms/step\n",
            "Epoch 5/20\n",
            "31/31 - 1s - loss: 85.9849 - mae: 7.1394 - 956ms/epoch - 31ms/step\n",
            "Epoch 6/20\n",
            "31/31 - 1s - loss: 135.8009 - mae: 9.2433 - 964ms/epoch - 31ms/step\n",
            "Epoch 7/20\n",
            "31/31 - 1s - loss: 128.7335 - mae: 9.0086 - 958ms/epoch - 31ms/step\n",
            "Epoch 8/20\n",
            "31/31 - 1s - loss: 76.3132 - mae: 6.7988 - 948ms/epoch - 31ms/step\n",
            "Epoch 9/20\n",
            "31/31 - 1s - loss: 80.2716 - mae: 6.9311 - 944ms/epoch - 30ms/step\n",
            "Epoch 10/20\n",
            "31/31 - 1s - loss: 87.5586 - mae: 7.4030 - 962ms/epoch - 31ms/step\n",
            "Epoch 11/20\n",
            "31/31 - 1s - loss: 85.2743 - mae: 7.1536 - 981ms/epoch - 32ms/step\n",
            "Epoch 12/20\n",
            "31/31 - 1s - loss: 113.5176 - mae: 8.4647 - 965ms/epoch - 31ms/step\n",
            "Epoch 13/20\n",
            "31/31 - 1s - loss: 115.5459 - mae: 8.6355 - 964ms/epoch - 31ms/step\n",
            "Epoch 14/20\n",
            "31/31 - 1s - loss: 59.9362 - mae: 6.0032 - 963ms/epoch - 31ms/step\n",
            "Epoch 15/20\n",
            "31/31 - 1s - loss: 70.4868 - mae: 6.5355 - 974ms/epoch - 31ms/step\n",
            "Epoch 16/20\n",
            "31/31 - 1s - loss: 76.0756 - mae: 6.6901 - 1s/epoch - 33ms/step\n",
            "Epoch 17/20\n",
            "31/31 - 2s - loss: 95.2918 - mae: 7.5616 - 2s/epoch - 52ms/step\n",
            "Epoch 18/20\n",
            "31/31 - 1s - loss: 106.4715 - mae: 8.1463 - 1s/epoch - 35ms/step\n",
            "Epoch 19/20\n",
            "31/31 - 1s - loss: 61.5589 - mae: 6.0887 - 1s/epoch - 41ms/step\n",
            "Epoch 20/20\n",
            "31/31 - 1s - loss: 64.0878 - mae: 6.0900 - 1s/epoch - 35ms/step\n"
          ]
        }
      ],
      "source": [
        "tf.keras.backend.clear_session()\n",
        "tf.random.set_seed(51)\n",
        "np.random.seed(51)\n",
        "\n",
        "tf.keras.backend.clear_session()\n",
        "dataset = windowed_dataset(x_train, window_size, batch_size, shuffle_buffer_size)\n",
        "\n",
        "model = tf.keras.models.Sequential([\n",
        "  tf.keras.layers.Lambda(lambda x: tf.expand_dims(x, axis=-1),\n",
        "                      input_shape=[None]),\n",
        "   tf.keras.layers.Bidirectional(tf.keras.layers.LSTM(32, return_sequences=True)),\n",
        "  tf.keras.layers.Bidirectional(tf.keras.layers.LSTM(32)),\n",
        "  tf.keras.layers.Dense(1),\n",
        "  tf.keras.layers.Lambda(lambda x: x * 100.0)\n",
        "])\n",
        "\n",
        "\n",
        "model.compile(loss=\"mse\", optimizer=tf.keras.optimizers.SGD(lr=1e-5, momentum=0.9),metrics=[\"mae\"])\n",
        "history = model.fit(dataset,epochs=20,verbose=2)"
      ]
    },
    {
      "cell_type": "code",
      "execution_count": 16,
      "metadata": {
        "colab": {
          "base_uri": "https://localhost:8080/",
          "height": 393
        },
        "colab_type": "code",
        "id": "icGDaND7z0ne",
        "outputId": "58b69d1a-82d2-457b-9342-42ceb24b35da"
      },
      "outputs": [
        {
          "name": "stderr",
          "output_type": "stream",
          "text": [
            "2022-04-20 18:30:10.862176: I tensorflow/core/grappler/optimizers/custom_graph_optimizer_registry.cc:113] Plugin optimizer for device_type GPU is enabled.\n",
            "2022-04-20 18:30:10.990898: I tensorflow/core/grappler/optimizers/custom_graph_optimizer_registry.cc:113] Plugin optimizer for device_type GPU is enabled.\n",
            "2022-04-20 18:30:11.003096: I tensorflow/core/grappler/optimizers/custom_graph_optimizer_registry.cc:113] Plugin optimizer for device_type GPU is enabled.\n",
            "2022-04-20 18:30:11.954342: I tensorflow/core/grappler/optimizers/custom_graph_optimizer_registry.cc:113] Plugin optimizer for device_type GPU is enabled.\n",
            "2022-04-20 18:30:11.962430: I tensorflow/core/grappler/optimizers/custom_graph_optimizer_registry.cc:113] Plugin optimizer for device_type GPU is enabled.\n"
          ]
        },
        {
          "data": {
            "image/png": "[encoded data removed]",
            "text/plain": [
              "<Figure size 720x432 with 1 Axes>"
            ]
          },
          "metadata": {
            "needs_background": "light"
          },
          "output_type": "display_data"
        }
      ],
      "source": [
        "forecast = []\n",
        "results = []\n",
        "for time in range(len(series) - window_size):\n",
        "      print(time, len(series) - window_size)\n",
        "      forecast.append(model.predict(series[time:time + window_size][np.newaxis]))\n",
        "\n",
        "forecast = forecast[split_time-window_size:]\n",
        "results = np.array(forecast)[:, 0, 0]\n",
        "\n",
        "\n",
        "plt.figure(figsize=(10, 6))\n",
        "\n",
        "plot_series(time_valid, x_valid)\n",
        "plot_series(time_valid, results)"
      ]
    },
    {
      "cell_type": "code",
      "execution_count": 17,
      "metadata": {
        "colab": {
          "base_uri": "https://localhost:8080/",
          "height": 35
        },
        "colab_type": "code",
        "id": "KfPeqI7rz4LD",
        "outputId": "816335be-fd2a-428f-98d6-05983b84d9b5"
      },
      "outputs": [
        {
          "data": {
            "text/plain": [
              "7.678926"
            ]
          },
          "execution_count": 17,
          "metadata": {},
          "output_type": "execute_result"
        }
      ],
      "source": [
        "tf.keras.metrics.mean_absolute_error(x_valid, results).numpy()"
      ]
    },
    {
      "cell_type": "code",
      "execution_count": 18,
      "metadata": {
        "colab": {
          "base_uri": "https://localhost:8080/",
          "height": 235
        },
        "colab_type": "code",
        "id": "JUsdZB_tzDLe",
        "outputId": "964c47d9-7eec-42cd-905f-c45c2fd31d9e"
      },
      "outputs": [
        {
          "data": {
            "text/plain": [
              "<Figure size 432x288 with 0 Axes>"
            ]
          },
          "execution_count": 18,
          "metadata": {},
          "output_type": "execute_result"
        },
        {
          "data": {
            "image/png": "[encoded data removed]",
            "text/plain": [
              "<Figure size 432x288 with 1 Axes>"
            ]
          },
          "metadata": {
            "needs_background": "light"
          },
          "output_type": "display_data"
        },
        {
          "data": {
            "image/png": "[encoded data removed]",
            "text/plain": [
              "<Figure size 432x288 with 1 Axes>"
            ]
          },
          "metadata": {
            "needs_background": "light"
          },
          "output_type": "display_data"
        },
        {
          "data": {
            "text/plain": [
              "<Figure size 432x288 with 0 Axes>"
            ]
          },
          "metadata": {},
          "output_type": "display_data"
        }
      ],
      "source": [
        "import matplotlib.image  as mpimg\n",
        "import matplotlib.pyplot as plt\n",
        "\n",
        "#-----------------------------------------------------------\n",
        "# Retrieve a list of list results on training and test data\n",
        "# sets for each training epoch\n",
        "#-----------------------------------------------------------\n",
        "mae=history.history['mae']\n",
        "loss=history.history['loss']\n",
        "\n",
        "epochs=range(len(loss)) # Get number of epochs\n",
        "\n",
        "#------------------------------------------------\n",
        "# Plot MAE and Loss\n",
        "#------------------------------------------------\n",
        "plt.plot(epochs, mae, 'r')\n",
        "plt.plot(epochs, loss, 'b')\n",
        "plt.title('MAE and Loss')\n",
        "plt.xlabel(\"Epochs\")\n",
        "plt.ylabel(\"Accuracy\")\n",
        "plt.legend([\"MAE\", \"Loss\"])\n",
        "\n",
        "plt.figure()\n",
        "\n",
        "epochs_zoom = epochs[200:]\n",
        "mae_zoom = mae[200:]\n",
        "loss_zoom = loss[200:]\n",
        "\n",
        "#------------------------------------------------\n",
        "# Plot Zoomed MAE and Loss\n",
        "#------------------------------------------------\n",
        "plt.plot(epochs_zoom, mae_zoom, 'r')\n",
        "plt.plot(epochs_zoom, loss_zoom, 'b')\n",
        "plt.title('MAE and Loss')\n",
        "plt.xlabel(\"Epochs\")\n",
        "plt.ylabel(\"Accuracy\")\n",
        "plt.legend([\"MAE\", \"Loss\"])\n",
        "\n",
        "plt.figure()"
      ]
    },
    {
      "cell_type": "code",
      "execution_count": null,
      "metadata": {
        "colab": {},
        "colab_type": "code",
        "id": "3CGaYFxXNEAK"
      },
      "outputs": [],
      "source": [
        "tf.keras.backend.clear_session()\n",
        "dataset = windowed_dataset(x_train, window_size, batch_size, shuffle_buffer_size)\n",
        "\n",
        "model = tf.keras.models.Sequential([\n",
        "  tf.keras.layers.Lambda(lambda x: tf.expand_dims(x, axis=-1),\n",
        "                      input_shape=[None]),\n",
        "  tf.keras.layers.Bidirectional(tf.keras.layers.LSTM(32, return_sequences=True)),\n",
        "  tf.keras.layers.Bidirectional(tf.keras.layers.LSTM(32)),\n",
        "  tf.keras.layers.Dense(1),\n",
        "  tf.keras.layers.Lambda(lambda x: x * 100.0)\n",
        "])\n",
        "\n",
        "\n",
        "model.compile(loss=\"mse\", optimizer=tf.keras.optimizers.SGD(lr=1e-6, momentum=0.9))\n",
        "model.fit(dataset,epochs=100, verbose=0)"
      ]
    },
    {
      "cell_type": "code",
      "execution_count": 19,
      "metadata": {
        "colab": {},
        "colab_type": "code",
        "id": "FJ3R8ysauz9e"
      },
      "outputs": [
        {
          "name": "stdout",
          "output_type": "stream",
          "text": [
            "Epoch 1/30\n"
          ]
        },
        {
          "name": "stderr",
          "output_type": "stream",
          "text": [
            "/Users/viktorcikojevic/miniforge3/envs/env_tf/lib/python3.9/site-packages/keras/optimizer_v2/gradient_descent.py:102: UserWarning: The `lr` argument is deprecated, use `learning_rate` instead.\n",
            "  super(SGD, self).__init__(name, **kwargs)\n",
            "2022-04-20 18:31:46.972316: I tensorflow/core/grappler/optimizers/custom_graph_optimizer_registry.cc:113] Plugin optimizer for device_type GPU is enabled.\n",
            "2022-04-20 18:31:47.548919: I tensorflow/core/grappler/optimizers/custom_graph_optimizer_registry.cc:113] Plugin optimizer for device_type GPU is enabled.\n",
            "2022-04-20 18:31:47.560384: I tensorflow/core/grappler/optimizers/custom_graph_optimizer_registry.cc:113] Plugin optimizer for device_type GPU is enabled.\n",
            "2022-04-20 18:31:47.631283: I tensorflow/core/grappler/optimizers/custom_graph_optimizer_registry.cc:113] Plugin optimizer for device_type GPU is enabled.\n",
            "2022-04-20 18:31:47.642625: I tensorflow/core/grappler/optimizers/custom_graph_optimizer_registry.cc:113] Plugin optimizer for device_type GPU is enabled.\n",
            "2022-04-20 18:31:47.715411: I tensorflow/core/grappler/optimizers/custom_graph_optimizer_registry.cc:113] Plugin optimizer for device_type GPU is enabled.\n",
            "2022-04-20 18:31:47.726449: I tensorflow/core/grappler/optimizers/custom_graph_optimizer_registry.cc:113] Plugin optimizer for device_type GPU is enabled.\n",
            "2022-04-20 18:31:47.812711: I tensorflow/core/grappler/optimizers/custom_graph_optimizer_registry.cc:113] Plugin optimizer for device_type GPU is enabled.\n",
            "2022-04-20 18:31:47.828720: I tensorflow/core/grappler/optimizers/custom_graph_optimizer_registry.cc:113] Plugin optimizer for device_type GPU is enabled.\n",
            "2022-04-20 18:31:47.954033: I tensorflow/core/grappler/optimizers/custom_graph_optimizer_registry.cc:113] Plugin optimizer for device_type GPU is enabled.\n",
            "2022-04-20 18:31:47.954500: I tensorflow/core/grappler/optimizers/custom_graph_optimizer_registry.cc:113] Plugin optimizer for device_type GPU is enabled.\n",
            "2022-04-20 18:31:48.109021: I tensorflow/core/grappler/optimizers/custom_graph_optimizer_registry.cc:113] Plugin optimizer for device_type GPU is enabled.\n",
            "2022-04-20 18:31:48.126783: I tensorflow/core/grappler/optimizers/custom_graph_optimizer_registry.cc:113] Plugin optimizer for device_type GPU is enabled.\n"
          ]
        },
        {
          "name": "stdout",
          "output_type": "stream",
          "text": [
            "31/31 - 7s - loss: 582.6314 - 7s/epoch - 218ms/step\n",
            "Epoch 2/30\n",
            "31/31 - 1s - loss: 153.1512 - 1s/epoch - 47ms/step\n",
            "Epoch 3/30\n",
            "31/31 - 1s - loss: 114.1580 - 1s/epoch - 45ms/step\n",
            "Epoch 4/30\n",
            "31/31 - 1s - loss: 100.3402 - 1s/epoch - 46ms/step\n",
            "Epoch 5/30\n",
            "31/31 - 1s - loss: 93.5909 - 1s/epoch - 46ms/step\n",
            "Epoch 6/30\n",
            "31/31 - 1s - loss: 84.8885 - 1s/epoch - 45ms/step\n",
            "Epoch 7/30\n",
            "31/31 - 1s - loss: 78.3585 - 1s/epoch - 47ms/step\n",
            "Epoch 8/30\n",
            "31/31 - 1s - loss: 68.6347 - 1s/epoch - 47ms/step\n",
            "Epoch 9/30\n",
            "31/31 - 1s - loss: 64.2155 - 1s/epoch - 47ms/step\n",
            "Epoch 10/30\n",
            "31/31 - 1s - loss: 62.1250 - 1s/epoch - 47ms/step\n",
            "Epoch 11/30\n",
            "31/31 - 1s - loss: 61.3214 - 1s/epoch - 45ms/step\n",
            "Epoch 12/30\n",
            "31/31 - 1s - loss: 59.7542 - 1s/epoch - 45ms/step\n",
            "Epoch 13/30\n",
            "31/31 - 1s - loss: 60.6463 - 1s/epoch - 46ms/step\n",
            "Epoch 14/30\n",
            "31/31 - 1s - loss: 57.4911 - 1s/epoch - 46ms/step\n",
            "Epoch 15/30\n",
            "31/31 - 1s - loss: 56.5601 - 1s/epoch - 47ms/step\n",
            "Epoch 16/30\n",
            "31/31 - 1s - loss: 57.2610 - 1s/epoch - 46ms/step\n",
            "Epoch 17/30\n",
            "31/31 - 1s - loss: 55.0781 - 1s/epoch - 47ms/step\n",
            "Epoch 18/30\n",
            "31/31 - 1s - loss: 53.8489 - 1s/epoch - 46ms/step\n",
            "Epoch 19/30\n",
            "31/31 - 1s - loss: 53.5246 - 1s/epoch - 45ms/step\n",
            "Epoch 20/30\n",
            "31/31 - 1s - loss: 58.8284 - 1s/epoch - 45ms/step\n",
            "Epoch 21/30\n",
            "31/31 - 1s - loss: 60.5816 - 1s/epoch - 47ms/step\n",
            "Epoch 22/30\n",
            "31/31 - 1s - loss: 55.4153 - 1s/epoch - 48ms/step\n",
            "Epoch 23/30\n",
            "31/31 - 1s - loss: 51.4004 - 1s/epoch - 48ms/step\n",
            "Epoch 24/30\n",
            "31/31 - 1s - loss: 54.1568 - 1s/epoch - 47ms/step\n",
            "Epoch 25/30\n",
            "31/31 - 2s - loss: 50.9759 - 2s/epoch - 51ms/step\n",
            "Epoch 26/30\n",
            "31/31 - 1s - loss: 52.1680 - 1s/epoch - 46ms/step\n",
            "Epoch 27/30\n",
            "31/31 - 1s - loss: 47.6464 - 1s/epoch - 48ms/step\n",
            "Epoch 28/30\n",
            "31/31 - 1s - loss: 48.7933 - 1s/epoch - 45ms/step\n",
            "Epoch 29/30\n",
            "31/31 - 1s - loss: 46.7754 - 1s/epoch - 45ms/step\n",
            "Epoch 30/30\n",
            "31/31 - 1s - loss: 47.4853 - 1s/epoch - 46ms/step\n"
          ]
        },
        {
          "data": {
            "text/plain": [
              "<keras.callbacks.History at 0x2ddce86a0>"
            ]
          },
          "execution_count": 19,
          "metadata": {},
          "output_type": "execute_result"
        }
      ],
      "source": [
        "tf.keras.backend.clear_session()\n",
        "dataset = windowed_dataset(x_train, window_size, batch_size, shuffle_buffer_size)\n",
        "\n",
        "model = tf.keras.models.Sequential([\n",
        "  tf.keras.layers.Lambda(lambda x: tf.expand_dims(x, axis=-1),\n",
        "                      input_shape=[None]),\n",
        "  tf.keras.layers.Bidirectional(tf.keras.layers.LSTM(32, return_sequences=True)),\n",
        "  tf.keras.layers.Bidirectional(tf.keras.layers.LSTM(32, return_sequences=True)),\n",
        "  tf.keras.layers.Bidirectional(tf.keras.layers.LSTM(32)),\n",
        "  tf.keras.layers.Dense(1),\n",
        "  tf.keras.layers.Lambda(lambda x: x * 100.0)\n",
        "])\n",
        "\n",
        "\n",
        "model.compile(loss=\"mse\", optimizer=tf.keras.optimizers.SGD(lr=1e-6, momentum=0.9))\n",
        "model.fit(dataset,epochs=30, verbose=2)"
      ]
    },
    {
      "cell_type": "code",
      "execution_count": null,
      "metadata": {},
      "outputs": [],
      "source": []
    }
  ],
  "metadata": {
    "colab": {
      "collapsed_sections": [],
      "name": "S+P Week 3 Lesson 4 - LSTM.ipynb",
      "provenance": [],
      "toc_visible": true,
      "version": "0.3.2"
    },
    "kernelspec": {
      "display_name": "Python 3",
      "name": "python3"
    },
    "language_info": {
      "codemirror_mode": {
        "name": "ipython",
        "version": 3
      },
      "file_extension": ".py",
      "mimetype": "text/x-python",
      "name": "python",
      "nbconvert_exporter": "python",
      "pygments_lexer": "ipython3",
      "version": "3.9.12"
    }
  },
  "nbformat": 4,
  "nbformat_minor": 0
}
